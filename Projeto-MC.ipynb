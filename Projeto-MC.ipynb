{
 "cells": [
  {
   "cell_type": "code",
   "execution_count": 60,
   "metadata": {
    "collapsed": false
   },
   "outputs": [],
   "source": [
    "#tabela\n",
    "import pandas as pd\n",
    "#constantes\n",
    "from astropy import constants as const\n",
    "#graficos\n",
    "import matplotlib.pyplot as plt\n",
    "#raiz, cos, sin, amostra de tempo e fit\n",
    "from numpy import sqrt, cos, sin, linspace, polyfit, poly1d\n",
    "#distancia\n",
    "from  scipy.spatial.distance import euclidean as dist\n",
    "from scipy.optimize import curve_fit\n",
    "%matplotlib inline"
   ]
  },
  {
   "cell_type": "markdown",
   "metadata": {},
   "source": [
    "## Constantes"
   ]
  },
  {
   "cell_type": "code",
   "execution_count": 2,
   "metadata": {
    "collapsed": false
   },
   "outputs": [
    {
     "name": "stdout",
     "output_type": "stream",
     "text": [
      "Constante gravitacional: 6.67384e-11 m3 / (kg s2)\n",
      "Massa do Sol: 1.9891e+30 kg\n",
      "Massa da Terra: 5.9742e+24 kg\n",
      "Massa de Júpiter: 1.8987e+27 kg\n",
      "Distância entre a Terra e o Sol: 1.496000e+11 m\n",
      "Distância entre Jupiter e o Sol: 7.785000e+11 m\n",
      "Raio da Terra: 6.378136e+06 m\n",
      "Raio de Júpiter: 7.149200e+07 m\n"
     ]
    }
   ],
   "source": [
    "G = const.G.value #constante gravitacional\n",
    "print('Constante gravitacional:', G, const.G.unit)\n",
    "\n",
    "M_sol = const.M_sun.value #massa do Sol\n",
    "print(\"Massa do Sol:\", M_sol, const.M_sun.unit)\n",
    "\n",
    "m_terra = const.M_earth.value #massa da Terra\n",
    "print(\"Massa da Terra:\", m_terra, const.M_earth.unit)\n",
    "\n",
    "m_jup = const.M_jup.value #massa de Jupiter\n",
    "print(\"Massa de Júpiter:\", m_jup, const.M_jup.unit)\n",
    "\n",
    "d_terra = 1.496e11 #distancia entre a Terra e o Sol\n",
    "print(\"Distância entre a Terra e o Sol:\",  '%e' %d_terra, 'm')\n",
    "\n",
    "d_jup = 7.785e11 #distancia entre Jupiter e o Sol\n",
    "print(\"Distância entre Jupiter e o Sol:\",  '%e' %d_jup, 'm')\n",
    "\n",
    "r_terra = const.R_earth.value #raio da Terra\n",
    "print(\"Raio da Terra:\", '%e' %r_terra, const.R_earth.unit)\n",
    "\n",
    "r_jup = const.R_jup.value #raio de Jupiter\n",
    "print(\"Raio de Júpiter:\", '%e' %r_jup, const.R_jup.unit)"
   ]
  },
  {
   "cell_type": "markdown",
   "metadata": {},
   "source": [
    "## Costruindo o modelo\n",
    "\n",
    "Por simplicidade, utilizamos dois planetas circulando em volta do sol, com uma força gravitacional tal que:\n",
    "\\begin{eqnarray}\n",
    "F_{G} = G\\frac{Mm}{r^2}\n",
    "\\end{eqnarray}\n",
    "e\n",
    "\\begin{eqnarray}\n",
    "a_{c}= \\omega r^2\n",
    "\\end{eqnarray}\n",
    "\n",
    "onde $x_{p} = r_{p}cos(\\omega_{p}t) $ e $y_{p} = r_{p}sen(\\omega_{p}t) $"
   ]
  },
  {
   "cell_type": "code",
   "execution_count": 3,
   "metadata": {
    "collapsed": false
   },
   "outputs": [
    {
     "data": {
      "text/html": [
       "<div>\n",
       "<table border=\"1\" class=\"dataframe\">\n",
       "  <thead>\n",
       "    <tr style=\"text-align: right;\">\n",
       "      <th></th>\n",
       "      <th>Distância do Sol</th>\n",
       "      <th>Velocidade Angular</th>\n",
       "    </tr>\n",
       "  </thead>\n",
       "  <tbody>\n",
       "    <tr>\n",
       "      <th>Terra</th>\n",
       "      <td>1.496000e+11</td>\n",
       "      <td>1.991218e-07</td>\n",
       "    </tr>\n",
       "    <tr>\n",
       "      <th>Jupiter</th>\n",
       "      <td>7.785000e+11</td>\n",
       "      <td>1.677368e-08</td>\n",
       "    </tr>\n",
       "  </tbody>\n",
       "</table>\n",
       "</div>"
      ],
      "text/plain": [
       "         Distância do Sol  Velocidade Angular\n",
       "Terra        1.496000e+11        1.991218e-07\n",
       "Jupiter      7.785000e+11        1.677368e-08"
      ]
     },
     "execution_count": 3,
     "metadata": {},
     "output_type": "execute_result"
    }
   ],
   "source": [
    "def w(r):\n",
    "        \n",
    "        w = sqrt(G*M_sol/r**3)\n",
    "        return w\n",
    "\n",
    "w_terra = w( d_terra)\n",
    "        \n",
    "w_jup = w(d_jup)\n",
    "\n",
    "d = {'Velocidade Angular': [w_terra, w_jup], 'Distância do Sol': [d_terra, d_jup] }\n",
    "pd.DataFrame(data = d, index = ('Terra', 'Jupiter'))"
   ]
  },
  {
   "cell_type": "code",
   "execution_count": 220,
   "metadata": {
    "collapsed": false
   },
   "outputs": [
    {
     "data": {
      "text/plain": [
       "[<matplotlib.lines.Line2D at 0x23625624630>]"
      ]
     },
     "execution_count": 220,
     "metadata": {},
     "output_type": "execute_result"
    },
    {
     "data": {
      "image/png": "[encoded data removed]",
      "text/plain": [
       "<matplotlib.figure.Figure at 0x236254d2e48>"
      ]
     },
     "metadata": {},
     "output_type": "display_data"
    }
   ],
   "source": [
    "t_terra = linspace(0,32000000) # 1 translação da Terra\n",
    "t_jup = linspace(0,380000000) # 1 translação de Júpiter\n",
    "\n",
    "#terra\n",
    "x_terra = d_terra*cos(w_terra*t_terra)\n",
    "y_terra = d_terra*sin(w_terra*t_terra)\n",
    "\n",
    "#jupiter\n",
    "x_jup = d_jup*cos(w_jup*t_jup)\n",
    "y_jup = d_jup*sin(w_jup*t_jup)\n",
    "\n",
    "p_terra = list(map(lambda x,y:(x,y),x_terra,y_terra))\n",
    "p_jup = list(map(lambda x,y:(x,y),x_jup,y_jup))\n",
    "\n",
    "plt.plot(x_terra,y_terra, '-', color = 'b')\n",
    "plt.plot(x_jup, y_jup, '-', color = 'orangered')\n",
    "plt.plot(1,1, 'o', color = 'y') #sol\n",
    "plt.plot(p_terra[0][0],p_terra[0][1], 'o', color = 'b') #terra\n",
    "plt.plot(p_jup[0][0],p_jup[0][1], 'o', color = 'orangered') #jupiter\n"
   ]
  },
  {
   "cell_type": "markdown",
   "metadata": {},
   "source": [
    "Agora, vamos plotar um raio de luz saindo de Jupiter em $(r_{jup},0)$ e chegando a Terra, demarcando os lugares que a mesma estava em $t_{0} = 0$ sendo o tempo em que o raio saiu de Jupiter e $t_{t} = t$ o tempo em que o raio chegou a Terra, utilizando a velocidade da luz $c = 1$ $ unidade/s$."
   ]
  },
  {
   "cell_type": "code",
   "execution_count": 219,
   "metadata": {
    "collapsed": false
   },
   "outputs": [
    {
     "data": {
      "text/plain": [
       "[<matplotlib.lines.Line2D at 0x23625568eb8>]"
      ]
     },
     "execution_count": 219,
     "metadata": {},
     "output_type": "execute_result"
    },
    {
     "data": {
      "image/png": "[encoded data removed]",
      "text/plain": [
       "<matplotlib.figure.Figure at 0x236254db7b8>"
      ]
     },
     "metadata": {},
     "output_type": "display_data"
    }
   ],
   "source": [
    "c = 1\n",
    "\n",
    "#distancia\n",
    "distancia0 = dist(p_terra[0],p_jup[0])\n",
    "\n",
    "t_0 = 0\n",
    "t_t = distancia0/c\n",
    "#print(t_t)\n",
    "\n",
    "novo_p_terra= (d_terra*cos(w_terra*(t_0+t_t)), d_terra*sin(w_terra*(t_0+t_t)))\n",
    "novo_p_jup= (d_jup*cos(w_jup*(t_0+t_t)), d_jup*sin(w_jup*(t_0+t_t)))\n",
    "#print(w_terra, w_terra*t_t)\n",
    "#print(w_jup, w_jup*t_t)\n",
    "\n",
    "plt.plot(x_terra,y_terra, '-', color = 'b')\n",
    "plt.plot(x_jup, y_jup, '-', color = 'orangered')\n",
    "plt.plot((p_terra[0][0], p_jup[0][0]),(p_terra[0][1], p_jup[0][1]), 'k')\n",
    "plt.plot(p_terra[0][0],p_terra[0][1], 'o', color = 'b') #terra\n",
    "plt.plot(p_jup[0][0],p_jup[0][1], 'o', color = 'orangered') #jupiter\n",
    "plt.plot(0,0, 'o', color = 'y') #sol\n",
    "plt.plot(novo_p_terra[0],novo_p_terra[1], 'o', color= 'b') #nova posicao terra\n",
    "#plt.plot(novo_p_jup[0],novo_p_jup[1], 'o', color= 'r') #nova posicao jupiter\n",
    "plt.plot((novo_p_terra[0], p_jup[0][0]),(novo_p_terra[1], p_jup[0][1]), color = 'k')\n"
   ]
  },
  {
   "cell_type": "markdown",
   "metadata": {},
   "source": [
    "Para vários pontos, teremos o seguinte gráfico tempo que a luz demora para 'sair' de Jupiter e 'chegar' na Terra vs distância entre Jupiter e Terra:"
   ]
  },
  {
   "cell_type": "code",
   "execution_count": 74,
   "metadata": {
    "collapsed": false
   },
   "outputs": [
    {
     "data": {
      "text/plain": [
       "<matplotlib.text.Text at 0x2361a916588>"
      ]
     },
     "execution_count": 74,
     "metadata": {},
     "output_type": "execute_result"
    },
    {
     "data": {
      "image/png": "[encoded data removed]",
      "text/plain": [
       "<matplotlib.figure.Figure at 0x2361a8fed68>"
      ]
     },
     "metadata": {},
     "output_type": "display_data"
    }
   ],
   "source": [
    "#terra\n",
    "x_terra = d_terra*cos(w_terra*t_jup)\n",
    "y_terra = d_terra*sin(w_terra*t_jup)\n",
    "\n",
    "#jupiter\n",
    "x_jup = d_jup*cos(w_jup*t_jup)\n",
    "y_jup = d_jup*sin(w_jup*t_jup)\n",
    "\n",
    "p_terra = list(map(lambda x,y:(x,y),x_terra,y_terra))\n",
    "p_jup = list(map(lambda x,y:(x,y),x_jup,y_jup))\n",
    "\n",
    "novo_p_terra = []\n",
    "novo_p_jup = []\n",
    "tempo = []\n",
    "\n",
    "c = 1\n",
    "\n",
    "for i in range(50): \n",
    "    distancia = dist(p_terra[i],p_jup[i])\n",
    "\n",
    "    t_0 = t_terra[i]\n",
    "    t_t = distancia*c\n",
    "\n",
    "    novo_p_terra.append((d_terra*cos(w_terra*(t_0+t_t)), d_terra*sin(w_terra*(t_0+t_t))))\n",
    "    novo_p_jup.append((d_jup*cos(w_jup*(t_0+t_t)), d_jup*sin(w_jup*(t_0+t_t))))\n",
    "distancia = []\n",
    "\n",
    "for i in range(50):\n",
    "    distancia.append(dist(novo_p_terra[i], novo_p_jup[i]))\n",
    "    tempo.append(distancia[i]*c)\n",
    "\n",
    "\n",
    "\n",
    "plt.plot(tempo, distancia, 'o', markersize = 2)\n",
    "plt.ylabel('Distância entre Terra e Jupiter')\n",
    "plt.xlabel('Tempo')\n"
   ]
  },
  {
   "cell_type": "markdown",
   "metadata": {},
   "source": [
    "Vemos que há uma relação linear onde o coeficiente angular é m igual a um $ \\frac{\\Delta s}{\\Delta t} $, no caso a velocidade da luz."
   ]
  },
  {
   "cell_type": "code",
   "execution_count": 75,
   "metadata": {
    "collapsed": false,
    "scrolled": true
   },
   "outputs": [
    {
     "name": "stdout",
     "output_type": "stream",
     "text": [
      " \n",
      "1 x - 6.905e-05\n"
     ]
    },
    {
     "data": {
      "text/plain": [
       "<matplotlib.text.Text at 0x2361a8d9320>"
      ]
     },
     "execution_count": 75,
     "metadata": {},
     "output_type": "execute_result"
    },
    {
     "data": {
      "image/png": "[encoded data removed]",
      "text/plain": [
       "<matplotlib.figure.Figure at 0x23617a32ba8>"
      ]
     },
     "metadata": {},
     "output_type": "display_data"
    }
   ],
   "source": [
    "z = polyfit(tempo, distancia, 1)\n",
    "\n",
    "zf = np.poly1d(z)\n",
    "print(zf)\n",
    "\n",
    "plt.plot(tempo, distancia, 'o', markersize = 2)\n",
    "plt.plot(tempo, zf(tempo))\n",
    "plt.ylabel('Distância')\n",
    "plt.xlabel('Tempo')"
   ]
  },
  {
   "cell_type": "markdown",
   "metadata": {},
   "source": [
    "O coeficiente angular será de fato o valor de c que ultilizamos. O jeito de achar q verdadeira velocidade da luz é sabendo o exato momento em que a luz saiu de Jupiter. Mas Ole Roemer usou dois tempos: um para quando a lua Io estava em eclipse, e outro quando ela não estava. Em uma dimensão, teremos o seguinte:"
   ]
  },
  {
   "cell_type": "code",
   "execution_count": 218,
   "metadata": {
    "collapsed": false
   },
   "outputs": [
    {
     "data": {
      "text/plain": [
       "<matplotlib.text.Text at 0x236253c2ef0>"
      ]
     },
     "execution_count": 218,
     "metadata": {},
     "output_type": "execute_result"
    },
    {
     "data": {
      "image/png": "[encoded data removed]",
      "text/plain": [
       "<matplotlib.figure.Figure at 0x236253a1d30>"
      ]
     },
     "metadata": {},
     "output_type": "display_data"
    }
   ],
   "source": [
    "plt.plot(0,0, 'o', color = 'orangered', markersize = 30) #Jupiter\n",
    "plt.plot(distancia0, 0, 'o', color = 'b', markersize = 10) #Terra\n",
    "plt.axhline(0, color = 'k')\n",
    "ax = plt.axes()\n",
    "ax.arrow(1e11, 0.03, 0.5e11, 0,head_length = 1e10) #raio 2\n",
    "plt.text(1e11, 0.02, 'raio 2')\n",
    "ax.arrow(3e11, 0.03, 0.5e11, 0,head_length = 1e10) #raio 1\n",
    "plt.text(3e11, 0.02, 'raio 1')\n",
    "plt.yticks([],[])\n",
    "plt.xlabel('Distância')"
   ]
  },
  {
   "cell_type": "markdown",
   "metadata": {},
   "source": [
    "Enquanto a Terra se movimenta, dois pulsos de luz, separados no tempo T são emitidos. No caso em que a Terra está se afastando de Jupiter, temos algo como:"
   ]
  },
  {
   "cell_type": "code",
   "execution_count": 217,
   "metadata": {
    "collapsed": false
   },
   "outputs": [
    {
     "data": {
      "text/plain": [
       "<matplotlib.legend.Legend at 0x23625438908>"
      ]
     },
     "execution_count": 217,
     "metadata": {},
     "output_type": "execute_result"
    },
    {
     "data": {
      "image/png": "[encoded data removed]",
      "text/plain": [
       "<matplotlib.figure.Figure at 0x236220fbdd8>"
      ]
     },
     "metadata": {},
     "output_type": "display_data"
    }
   ],
   "source": [
    "plt.axhline(0, color = 'k')\n",
    "plt.axvline(0, color = 'k')\n",
    "plt.xlabel('Tempo')\n",
    "plt.ylabel('Posição')\n",
    "plt.xticks([],[])\n",
    "plt.yticks([],[])\n",
    "plt.text(0.01, 0.5, 'Terra', color = 'b')\n",
    "plt.plot((0, 1),(0.6, 0.7), 'b')\n",
    "plt.plot((0,0.2),(0,0), 'r')\n",
    "plt.text(0.1, 0.01, 'T', color ='r')\n",
    "plt.plot((0,0.4),(0, 0.7),':', label = 'Luz 1', color = 'g')\n",
    "plt.plot((0.2,0.6),(0, 0.7), ':', label = 'Luz 2', color = 'lime')\n",
    "plt.plot((0.37,0.57), (0.6,0.6), color = 'r')\n",
    "plt.text(0.45, 0.55, \"T'\", color = 'r')\n",
    "plt.plot((0.37,0.37),(0.55, 0.65), ':', color =  'k')\n",
    "plt.plot((0.57,0.57),(0.55, 0.65), ':', color =  'k')\n",
    "plt.legend()"
   ]
  },
  {
   "cell_type": "markdown",
   "metadata": {},
   "source": [
    "Então,teremos o seguinte esquema onde $x_{L1} $ é a posição da luz 1,  $x_{L2} $ é a posição da luz 2, $c $ é a velocidade da luz, $x $ é a posição da Terra e $ v$ é a velocidade da Terra.\n",
    "\\begin{eqnarray}\n",
    "x_{L1} = ct \n",
    "\\\\\n",
    "x_{L2} = c(t-T) \n",
    "\\\\\n",
    "x = x_{o} + vt\n",
    "\\end{eqnarray}\n",
    "Com $t_{1}$ sendo o tempo em que a luz 1 encontra a Terra, $t_{2}$ o que a luz 2 encontra a Terra e $T' = t_{1} - t_{2}$.\n",
    "\n",
    "Assim, chegamos à $ T' = \\frac{T}{1- \\frac{v}{c}}$ e, usando a expansão de Taylor para $\\frac{v}{c}>>1$, $T' = T(1+\\frac{v}{c})$.\n",
    "\n",
    "Note que se a Terra está se afastando de Júpiter, é necessário usar uma velocidade v negativa.\n"
   ]
  },
  {
   "cell_type": "code",
   "execution_count": null,
   "metadata": {
    "collapsed": true
   },
   "outputs": [],
   "source": [
    "v = "
   ]
  }
 ],
 "metadata": {
  "kernelspec": {
   "display_name": "Python 3",
   "language": "python",
   "name": "python3"
  },
  "language_info": {
   "codemirror_mode": {
    "name": "ipython",
    "version": 3
   },
   "file_extension": ".py",
   "mimetype": "text/x-python",
   "name": "python",
   "nbconvert_exporter": "python",
   "pygments_lexer": "ipython3",
   "version": "3.6.0"
  }
 },
 "nbformat": 4,
 "nbformat_minor": 2
}
